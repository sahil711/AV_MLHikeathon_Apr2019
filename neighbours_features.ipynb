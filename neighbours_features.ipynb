{
 "cells": [
  {
   "cell_type": "code",
   "execution_count": 1,
   "metadata": {},
   "outputs": [],
   "source": [
    "import pandas as pd\n",
    "import numpy as np\n",
    "import networkx as nx\n",
    "from tqdm import tqdm"
   ]
  },
  {
   "cell_type": "code",
   "execution_count": 2,
   "metadata": {},
   "outputs": [],
   "source": [
    "DATADIR = '../hike/'"
   ]
  },
  {
   "cell_type": "code",
   "execution_count": 3,
   "metadata": {},
   "outputs": [],
   "source": [
    "train = pd.read_csv(DATADIR + 'train.csv', usecols=['node1_id', 'node2_id'])"
   ]
  },
  {
   "cell_type": "code",
   "execution_count": 4,
   "metadata": {},
   "outputs": [],
   "source": [
    "test = pd.read_csv(DATADIR + 'test.csv', usecols=['node1_id', 'node2_id'])"
   ]
  },
  {
   "cell_type": "code",
   "execution_count": 5,
   "metadata": {},
   "outputs": [
    {
     "data": {
      "text/plain": [
       "((70661802, 2), (11776968, 2))"
      ]
     },
     "execution_count": 5,
     "metadata": {},
     "output_type": "execute_result"
    }
   ],
   "source": [
    "train.shape, test.shape"
   ]
  },
  {
   "cell_type": "code",
   "execution_count": 6,
   "metadata": {},
   "outputs": [],
   "source": [
    "df = pd.concat([train, test], axis=0)"
   ]
  },
  {
   "cell_type": "code",
   "execution_count": 7,
   "metadata": {},
   "outputs": [
    {
     "data": {
      "text/plain": [
       "(82438770, 2)"
      ]
     },
     "execution_count": 7,
     "metadata": {},
     "output_type": "execute_result"
    }
   ],
   "source": [
    "df.shape"
   ]
  },
  {
   "cell_type": "code",
   "execution_count": 8,
   "metadata": {},
   "outputs": [],
   "source": [
    "del train, test"
   ]
  },
  {
   "cell_type": "code",
   "execution_count": null,
   "metadata": {},
   "outputs": [],
   "source": []
  },
  {
   "cell_type": "code",
   "execution_count": null,
   "metadata": {},
   "outputs": [],
   "source": []
  },
  {
   "cell_type": "markdown",
   "metadata": {},
   "source": [
    "#### make graph for all nodes and create neighbours dict"
   ]
  },
  {
   "cell_type": "code",
   "execution_count": null,
   "metadata": {},
   "outputs": [],
   "source": [
    "%%time\n",
    "graph = nx.from_pandas_edgelist(df=df, source='node1_id', target='node2_id')"
   ]
  },
  {
   "cell_type": "code",
   "execution_count": 9,
   "metadata": {
    "scrolled": true
   },
   "outputs": [
    {
     "name": "stdout",
     "output_type": "stream",
     "text": [
      "CPU times: user 6min 42s, sys: 2.5 s, total: 6min 45s\n",
      "Wall time: 6min 45s\n"
     ]
    }
   ],
   "source": [
    "%%time\n",
    "neighbour = {node:[n for n in graph.neighbors(node)] for node in graph.nodes}"
   ]
  },
  {
   "cell_type": "code",
   "execution_count": null,
   "metadata": {},
   "outputs": [],
   "source": []
  },
  {
   "cell_type": "code",
   "execution_count": null,
   "metadata": {},
   "outputs": [],
   "source": []
  },
  {
   "cell_type": "markdown",
   "metadata": {},
   "source": [
    "#### make graph for chat nodes only and create neighbours dict for the same"
   ]
  },
  {
   "cell_type": "code",
   "execution_count": 17,
   "metadata": {},
   "outputs": [],
   "source": [
    "train = pd.read_csv(DATADIR + 'train.csv')"
   ]
  },
  {
   "cell_type": "code",
   "execution_count": 18,
   "metadata": {},
   "outputs": [
    {
     "name": "stdout",
     "output_type": "stream",
     "text": [
      "CPU times: user 27.5 s, sys: 1.21 s, total: 28.7 s\n",
      "Wall time: 28.7 s\n"
     ]
    }
   ],
   "source": [
    "%%time\n",
    "chat=train[train.is_chat==1]\n",
    "chat_graph = nx.from_pandas_edgelist(df=chat.iloc[:,:2],source='node1_id',target='node2_id')"
   ]
  },
  {
   "cell_type": "code",
   "execution_count": 20,
   "metadata": {},
   "outputs": [
    {
     "name": "stdout",
     "output_type": "stream",
     "text": [
      "CPU times: user 18.4 s, sys: 90.8 ms, total: 18.5 s\n",
      "Wall time: 18.5 s\n"
     ]
    }
   ],
   "source": [
    "%%time\n",
    "is_chat_neighbour = {node:[n for n in chat_graph.neighbors(node)] for node in chat_graph.nodes}"
   ]
  },
  {
   "cell_type": "code",
   "execution_count": 75,
   "metadata": {},
   "outputs": [],
   "source": [
    "# del train"
   ]
  },
  {
   "cell_type": "code",
   "execution_count": null,
   "metadata": {},
   "outputs": [],
   "source": []
  },
  {
   "cell_type": "code",
   "execution_count": 17,
   "metadata": {},
   "outputs": [
    {
     "name": "stdout",
     "output_type": "stream",
     "text": [
      "1899068\n"
     ]
    }
   ],
   "source": [
    "print (len(is_chat_neighbour.keys()))"
   ]
  },
  {
   "cell_type": "code",
   "execution_count": 18,
   "metadata": {},
   "outputs": [
    {
     "name": "stdout",
     "output_type": "stream",
     "text": [
      "8264276\n"
     ]
    }
   ],
   "source": [
    "print (len(neighbour.keys()))"
   ]
  },
  {
   "cell_type": "markdown",
   "metadata": {},
   "source": [
    "#### saving neighbours dict for reloading purpose"
   ]
  },
  {
   "cell_type": "code",
   "execution_count": 9,
   "metadata": {},
   "outputs": [],
   "source": [
    "# import pickle"
   ]
  },
  {
   "cell_type": "code",
   "execution_count": 14,
   "metadata": {},
   "outputs": [],
   "source": [
    "# with open(r\"neighbour_all_pat.pickle\", \"wb\") as output_file:\n",
    "#     pickle.dump(neighbour, output_file)"
   ]
  },
  {
   "cell_type": "code",
   "execution_count": 15,
   "metadata": {},
   "outputs": [],
   "source": [
    "# with open(r\"neighbour_chat_pat.pickle\", \"wb\") as output_file:\n",
    "#     pickle.dump(is_chat_neighbour, output_file)"
   ]
  },
  {
   "cell_type": "code",
   "execution_count": null,
   "metadata": {},
   "outputs": [],
   "source": []
  },
  {
   "cell_type": "markdown",
   "metadata": {},
   "source": [
    "#### clear graph from memory"
   ]
  },
  {
   "cell_type": "code",
   "execution_count": 16,
   "metadata": {},
   "outputs": [],
   "source": [
    "# graph.clear()"
   ]
  },
  {
   "cell_type": "code",
   "execution_count": null,
   "metadata": {},
   "outputs": [],
   "source": [
    "# chat_graph.clear()"
   ]
  },
  {
   "cell_type": "code",
   "execution_count": null,
   "metadata": {},
   "outputs": [],
   "source": [
    "# del graph, chat_graph"
   ]
  },
  {
   "cell_type": "code",
   "execution_count": null,
   "metadata": {},
   "outputs": [],
   "source": []
  },
  {
   "cell_type": "code",
   "execution_count": null,
   "metadata": {},
   "outputs": [],
   "source": []
  },
  {
   "cell_type": "markdown",
   "metadata": {},
   "source": [
    "#### load neighbours dict from pickle"
   ]
  },
  {
   "cell_type": "code",
   "execution_count": 11,
   "metadata": {},
   "outputs": [],
   "source": [
    "# import pickle"
   ]
  },
  {
   "cell_type": "code",
   "execution_count": 12,
   "metadata": {},
   "outputs": [],
   "source": [
    "# neighbour = pickle.load(open(\"neighbour_all_pat.pickle\"))"
   ]
  },
  {
   "cell_type": "code",
   "execution_count": 13,
   "metadata": {},
   "outputs": [
    {
     "name": "stdout",
     "output_type": "stream",
     "text": [
      "The history saving thread hit an unexpected error (OperationalError('database is locked',)).History will not be written to the database.\n"
     ]
    }
   ],
   "source": [
    "# is_chat_neighbour = pickle.load(open(\"neighbour_chat_pat.pickle\"))"
   ]
  },
  {
   "cell_type": "code",
   "execution_count": null,
   "metadata": {},
   "outputs": [],
   "source": []
  },
  {
   "cell_type": "code",
   "execution_count": null,
   "metadata": {},
   "outputs": [],
   "source": []
  },
  {
   "cell_type": "markdown",
   "metadata": {},
   "source": [
    "####  creating neighbours variables for all edges (train+test)"
   ]
  },
  {
   "cell_type": "code",
   "execution_count": null,
   "metadata": {
    "scrolled": true
   },
   "outputs": [],
   "source": [
    "%%time\n",
    "with open('neigbours_vars.csv', 'w') as myfile:\n",
    "    for i, row in df.iterrows():\n",
    "        a, b = row['node1_id'], row['node2_id']\n",
    "        neighbour_a, neighbour_b = set(neighbour[int(a)]), set(neighbour[int(b)])\n",
    "        try:\n",
    "            chat_neighbour_a=set(is_chat_neighbour[int(a)])\n",
    "        except:\n",
    "            chat_neighbour_a=set()\n",
    "        try:\n",
    "            chat_neighbour_b=set(is_chat_neighbour[int(b)])\n",
    "        except:\n",
    "            chat_neighbour_b=set()\n",
    "            \n",
    "        if a in neighbour_a: neighbour_a.remove(a)\n",
    "        if b in neighbour_a: neighbour_a.remove(b)\n",
    "        if a in neighbour_b:neighbour_b.remove(a)\n",
    "        if b in neighbour_b:neighbour_b.remove(b)\n",
    "\n",
    "        if a in chat_neighbour_a: chat_neighbour_a.remove(a)\n",
    "        if b in chat_neighbour_a: chat_neighbour_a.remove(b)\n",
    "        if a in chat_neighbour_b:chat_neighbour_b.remove(a)\n",
    "        if b in chat_neighbour_b:chat_neighbour_b.remove(b)\n",
    "            \n",
    "        na_n_c_n = [len(is_chat_neighbour.get(node, [])) for node in neighbour_a]\n",
    "        nb_n_c_n = [len(is_chat_neighbour.get(node, [])) for node in neighbour_b]\n",
    "        \n",
    "        mutual_n_c_n = [len(is_chat_neighbour.get(node, [])) for node in neighbour_a.intersection(neighbour_b)]\n",
    "        all_n_c_n = [len(is_chat_neighbour.get(node, [])) for node in neighbour_a.union(neighbour_b)]\n",
    "        \n",
    "        mutual_chat_n_c_n = [len(is_chat_neighbour.get(node, [])) for node in chat_neighbour_a.intersection(chat_neighbour_b)]\n",
    "        all_chat_n_c_n = [len(is_chat_neighbour.get(node, [])) for node in chat_neighbour_a.union(chat_neighbour_b)]\n",
    "        \n",
    "        myfile.write(\"{},{},{},{},{},{},{},{},{},{},{},{},{},{},{},{},{},{},{},{}\\n\".format(\n",
    "                len(neighbour_a),\n",
    "                len(neighbour_b),\n",
    "                len(chat_neighbour_a),\n",
    "                len(chat_neighbour_b),\n",
    "                len(neighbour_a.intersection(neighbour_b)),\n",
    "                len(chat_neighbour_a.intersection(chat_neighbour_b)),\n",
    "                len(chat_neighbour_a.intersection(neighbour_a.intersection(neighbour_b))),\n",
    "                len(chat_neighbour_b.intersection(neighbour_a.intersection(neighbour_b))),\n",
    "            \n",
    "                sum(na_n_c_n),\n",
    "                len(na_n_c_n),\n",
    "                sum(nb_n_c_n),\n",
    "                len(nb_n_c_n),\n",
    "                sum(mutual_n_c_n),\n",
    "                len(mutual_n_c_n),\n",
    "                sum(all_n_c_n),\n",
    "                len(all_n_c_n),\n",
    "                sum(mutual_chat_n_c_n),\n",
    "                len(mutual_chat_n_c_n),\n",
    "                sum(all_chat_n_c_n),\n",
    "                len(all_chat_n_c_n),\n",
    "        ))\n"
   ]
  },
  {
   "cell_type": "code",
   "execution_count": 47,
   "metadata": {},
   "outputs": [],
   "source": [
    "all_neighbour = pd.read_csv('neigbours_vars.csv', header=None)"
   ]
  },
  {
   "cell_type": "code",
   "execution_count": null,
   "metadata": {},
   "outputs": [],
   "source": []
  },
  {
   "cell_type": "code",
   "execution_count": 67,
   "metadata": {},
   "outputs": [
    {
     "data": {
      "text/html": [
       "<div>\n",
       "<style scoped>\n",
       "    .dataframe tbody tr th:only-of-type {\n",
       "        vertical-align: middle;\n",
       "    }\n",
       "\n",
       "    .dataframe tbody tr th {\n",
       "        vertical-align: top;\n",
       "    }\n",
       "\n",
       "    .dataframe thead th {\n",
       "        text-align: right;\n",
       "    }\n",
       "</style>\n",
       "<table border=\"1\" class=\"dataframe\">\n",
       "  <thead>\n",
       "    <tr style=\"text-align: right;\">\n",
       "      <th></th>\n",
       "      <th>degree_2_neighs_chat_sum_source</th>\n",
       "      <th>degree_2_neighs_chat_avg_source</th>\n",
       "      <th>degree_2_neighs_chat_sum_target</th>\n",
       "      <th>degree_2_neighs_chat_avg_target</th>\n",
       "      <th>mutual_neighs_avg_chat_sum</th>\n",
       "      <th>mutual_neighs_avg_chat_avg</th>\n",
       "      <th>union_neighs_avg_chat_sum</th>\n",
       "      <th>union_neighs_avg_chat_avg</th>\n",
       "    </tr>\n",
       "  </thead>\n",
       "  <tbody>\n",
       "    <tr>\n",
       "      <th>0</th>\n",
       "      <td>26</td>\n",
       "      <td>0.702703</td>\n",
       "      <td>11</td>\n",
       "      <td>1.571429</td>\n",
       "      <td>1</td>\n",
       "      <td>1.000000</td>\n",
       "      <td>36</td>\n",
       "      <td>0.837209</td>\n",
       "    </tr>\n",
       "    <tr>\n",
       "      <th>1</th>\n",
       "      <td>37</td>\n",
       "      <td>0.787234</td>\n",
       "      <td>10</td>\n",
       "      <td>0.909091</td>\n",
       "      <td>0</td>\n",
       "      <td>NaN</td>\n",
       "      <td>47</td>\n",
       "      <td>0.810345</td>\n",
       "    </tr>\n",
       "    <tr>\n",
       "      <th>2</th>\n",
       "      <td>68</td>\n",
       "      <td>1.478261</td>\n",
       "      <td>44</td>\n",
       "      <td>2.095238</td>\n",
       "      <td>7</td>\n",
       "      <td>2.333333</td>\n",
       "      <td>105</td>\n",
       "      <td>1.640625</td>\n",
       "    </tr>\n",
       "    <tr>\n",
       "      <th>3</th>\n",
       "      <td>101</td>\n",
       "      <td>1.771930</td>\n",
       "      <td>122</td>\n",
       "      <td>1.794118</td>\n",
       "      <td>20</td>\n",
       "      <td>2.857143</td>\n",
       "      <td>203</td>\n",
       "      <td>1.720339</td>\n",
       "    </tr>\n",
       "    <tr>\n",
       "      <th>4</th>\n",
       "      <td>47</td>\n",
       "      <td>0.691176</td>\n",
       "      <td>7</td>\n",
       "      <td>0.700000</td>\n",
       "      <td>0</td>\n",
       "      <td>0.000000</td>\n",
       "      <td>54</td>\n",
       "      <td>0.701299</td>\n",
       "    </tr>\n",
       "  </tbody>\n",
       "</table>\n",
       "</div>"
      ],
      "text/plain": [
       "   degree_2_neighs_chat_sum_source  degree_2_neighs_chat_avg_source  \\\n",
       "0                               26                         0.702703   \n",
       "1                               37                         0.787234   \n",
       "2                               68                         1.478261   \n",
       "3                              101                         1.771930   \n",
       "4                               47                         0.691176   \n",
       "\n",
       "   degree_2_neighs_chat_sum_target  degree_2_neighs_chat_avg_target  \\\n",
       "0                               11                         1.571429   \n",
       "1                               10                         0.909091   \n",
       "2                               44                         2.095238   \n",
       "3                              122                         1.794118   \n",
       "4                                7                         0.700000   \n",
       "\n",
       "   mutual_neighs_avg_chat_sum  mutual_neighs_avg_chat_avg  \\\n",
       "0                           1                    1.000000   \n",
       "1                           0                         NaN   \n",
       "2                           7                    2.333333   \n",
       "3                          20                    2.857143   \n",
       "4                           0                    0.000000   \n",
       "\n",
       "   union_neighs_avg_chat_sum  union_neighs_avg_chat_avg  \n",
       "0                         36                   0.837209  \n",
       "1                         47                   0.810345  \n",
       "2                        105                   1.640625  \n",
       "3                        203                   1.720339  \n",
       "4                         54                   0.701299  "
      ]
     },
     "execution_count": 67,
     "metadata": {},
     "output_type": "execute_result"
    }
   ],
   "source": [
    "df_deg_2_neigh = pd.DataFrame()\n",
    "df_deg_2_neigh['degree_2_neighs_chat_sum_source'] = all_neighbour[8]\n",
    "df_deg_2_neigh['degree_2_neighs_chat_avg_source'] = all_neighbour[8]/all_neighbour[9]\n",
    "df_deg_2_neigh['degree_2_neighs_chat_sum_target'] = all_neighbour[10]\n",
    "df_deg_2_neigh['degree_2_neighs_chat_avg_target'] = all_neighbour[10]/all_neighbour[11]\n",
    "df_deg_2_neigh['mutual_neighs_avg_chat_sum'] = all_neighbour[12]\n",
    "df_deg_2_neigh['mutual_neighs_avg_chat_avg'] = all_neighbour[12]/all_neighbour[13]\n",
    "df_deg_2_neigh['union_neighs_avg_chat_sum'] = all_neighbour[14]\n",
    "df_deg_2_neigh['union_neighs_avg_chat_avg'] = all_neighbour[14]/all_neighbour[15]\n",
    "df_deg_2_neigh.head()\n"
   ]
  },
  {
   "cell_type": "code",
   "execution_count": 69,
   "metadata": {},
   "outputs": [],
   "source": [
    "df_deg_2_neigh.to_pickle('degree_2_neighbour_feats.pkl')"
   ]
  },
  {
   "cell_type": "code",
   "execution_count": null,
   "metadata": {},
   "outputs": [],
   "source": []
  },
  {
   "cell_type": "code",
   "execution_count": null,
   "metadata": {},
   "outputs": [],
   "source": []
  },
  {
   "cell_type": "code",
   "execution_count": 63,
   "metadata": {},
   "outputs": [
    {
     "data": {
      "text/html": [
       "<div>\n",
       "<style scoped>\n",
       "    .dataframe tbody tr th:only-of-type {\n",
       "        vertical-align: middle;\n",
       "    }\n",
       "\n",
       "    .dataframe tbody tr th {\n",
       "        vertical-align: top;\n",
       "    }\n",
       "\n",
       "    .dataframe thead th {\n",
       "        text-align: right;\n",
       "    }\n",
       "</style>\n",
       "<table border=\"1\" class=\"dataframe\">\n",
       "  <thead>\n",
       "    <tr style=\"text-align: right;\">\n",
       "      <th></th>\n",
       "      <th>4</th>\n",
       "      <th>6</th>\n",
       "      <th>7</th>\n",
       "    </tr>\n",
       "  </thead>\n",
       "  <tbody>\n",
       "    <tr>\n",
       "      <th>0</th>\n",
       "      <td>1</td>\n",
       "      <td>0</td>\n",
       "      <td>0</td>\n",
       "    </tr>\n",
       "    <tr>\n",
       "      <th>1</th>\n",
       "      <td>0</td>\n",
       "      <td>0</td>\n",
       "      <td>0</td>\n",
       "    </tr>\n",
       "    <tr>\n",
       "      <th>2</th>\n",
       "      <td>3</td>\n",
       "      <td>0</td>\n",
       "      <td>0</td>\n",
       "    </tr>\n",
       "    <tr>\n",
       "      <th>3</th>\n",
       "      <td>7</td>\n",
       "      <td>0</td>\n",
       "      <td>0</td>\n",
       "    </tr>\n",
       "    <tr>\n",
       "      <th>4</th>\n",
       "      <td>1</td>\n",
       "      <td>0</td>\n",
       "      <td>0</td>\n",
       "    </tr>\n",
       "  </tbody>\n",
       "</table>\n",
       "</div>"
      ],
      "text/plain": [
       "   4  6  7\n",
       "0  1  0  0\n",
       "1  0  0  0\n",
       "2  3  0  0\n",
       "3  7  0  0\n",
       "4  1  0  0"
      ]
     },
     "execution_count": 63,
     "metadata": {},
     "output_type": "execute_result"
    }
   ],
   "source": [
    "df_neighbours1 = all_neighbour[[4,6,7]]\n",
    "df_neighbours1.head()"
   ]
  },
  {
   "cell_type": "code",
   "execution_count": 71,
   "metadata": {},
   "outputs": [],
   "source": [
    "df_neighbours1.to_csv('neigbours_vars_sahil_1.csv', index=False)"
   ]
  },
  {
   "cell_type": "code",
   "execution_count": null,
   "metadata": {},
   "outputs": [],
   "source": []
  },
  {
   "cell_type": "code",
   "execution_count": null,
   "metadata": {},
   "outputs": [],
   "source": []
  },
  {
   "cell_type": "code",
   "execution_count": 72,
   "metadata": {},
   "outputs": [
    {
     "data": {
      "text/html": [
       "<div>\n",
       "<style scoped>\n",
       "    .dataframe tbody tr th:only-of-type {\n",
       "        vertical-align: middle;\n",
       "    }\n",
       "\n",
       "    .dataframe tbody tr th {\n",
       "        vertical-align: top;\n",
       "    }\n",
       "\n",
       "    .dataframe thead th {\n",
       "        text-align: right;\n",
       "    }\n",
       "</style>\n",
       "<table border=\"1\" class=\"dataframe\">\n",
       "  <thead>\n",
       "    <tr style=\"text-align: right;\">\n",
       "      <th></th>\n",
       "      <th>2</th>\n",
       "      <th>3</th>\n",
       "    </tr>\n",
       "  </thead>\n",
       "  <tbody>\n",
       "    <tr>\n",
       "      <th>0</th>\n",
       "      <td>0</td>\n",
       "      <td>0</td>\n",
       "    </tr>\n",
       "    <tr>\n",
       "      <th>1</th>\n",
       "      <td>0</td>\n",
       "      <td>0</td>\n",
       "    </tr>\n",
       "    <tr>\n",
       "      <th>2</th>\n",
       "      <td>1</td>\n",
       "      <td>4</td>\n",
       "    </tr>\n",
       "    <tr>\n",
       "      <th>3</th>\n",
       "      <td>0</td>\n",
       "      <td>0</td>\n",
       "    </tr>\n",
       "    <tr>\n",
       "      <th>4</th>\n",
       "      <td>2</td>\n",
       "      <td>0</td>\n",
       "    </tr>\n",
       "  </tbody>\n",
       "</table>\n",
       "</div>"
      ],
      "text/plain": [
       "   2  3\n",
       "0  0  0\n",
       "1  0  0\n",
       "2  1  4\n",
       "3  0  0\n",
       "4  2  0"
      ]
     },
     "execution_count": 72,
     "metadata": {},
     "output_type": "execute_result"
    }
   ],
   "source": [
    "df_neighbours2 = all_neighbour[[2,3]]\n",
    "df_neighbours2.head()"
   ]
  },
  {
   "cell_type": "code",
   "execution_count": 73,
   "metadata": {},
   "outputs": [],
   "source": [
    "df_neighbours2.to_csv('neigbours_vars_sahil_2.csv', index=False)"
   ]
  },
  {
   "cell_type": "code",
   "execution_count": null,
   "metadata": {},
   "outputs": [],
   "source": []
  },
  {
   "cell_type": "code",
   "execution_count": null,
   "metadata": {},
   "outputs": [],
   "source": []
  },
  {
   "cell_type": "code",
   "execution_count": 55,
   "metadata": {},
   "outputs": [],
   "source": [
    "df_leftover = pd.DataFrame()\n",
    "df_leftover[0] = all_neighbour[16]\n",
    "df_leftover[1] = all_neighbour[16]/all_neighbour[17]\n",
    "df_leftover[2] = all_neighbour[18]\n",
    "df_leftover[3] = all_neighbour[18]/all_neighbour[19]"
   ]
  },
  {
   "cell_type": "code",
   "execution_count": 56,
   "metadata": {},
   "outputs": [
    {
     "data": {
      "text/html": [
       "<div>\n",
       "<style scoped>\n",
       "    .dataframe tbody tr th:only-of-type {\n",
       "        vertical-align: middle;\n",
       "    }\n",
       "\n",
       "    .dataframe tbody tr th {\n",
       "        vertical-align: top;\n",
       "    }\n",
       "\n",
       "    .dataframe thead th {\n",
       "        text-align: right;\n",
       "    }\n",
       "</style>\n",
       "<table border=\"1\" class=\"dataframe\">\n",
       "  <thead>\n",
       "    <tr style=\"text-align: right;\">\n",
       "      <th></th>\n",
       "      <th>0</th>\n",
       "      <th>1</th>\n",
       "      <th>2</th>\n",
       "      <th>3</th>\n",
       "    </tr>\n",
       "  </thead>\n",
       "  <tbody>\n",
       "    <tr>\n",
       "      <th>0</th>\n",
       "      <td>0</td>\n",
       "      <td>NaN</td>\n",
       "      <td>0</td>\n",
       "      <td>NaN</td>\n",
       "    </tr>\n",
       "    <tr>\n",
       "      <th>1</th>\n",
       "      <td>0</td>\n",
       "      <td>NaN</td>\n",
       "      <td>0</td>\n",
       "      <td>NaN</td>\n",
       "    </tr>\n",
       "    <tr>\n",
       "      <th>2</th>\n",
       "      <td>0</td>\n",
       "      <td>NaN</td>\n",
       "      <td>23</td>\n",
       "      <td>4.6</td>\n",
       "    </tr>\n",
       "    <tr>\n",
       "      <th>3</th>\n",
       "      <td>0</td>\n",
       "      <td>NaN</td>\n",
       "      <td>0</td>\n",
       "      <td>NaN</td>\n",
       "    </tr>\n",
       "    <tr>\n",
       "      <th>4</th>\n",
       "      <td>0</td>\n",
       "      <td>NaN</td>\n",
       "      <td>5</td>\n",
       "      <td>2.5</td>\n",
       "    </tr>\n",
       "  </tbody>\n",
       "</table>\n",
       "</div>"
      ],
      "text/plain": [
       "   0   1   2    3\n",
       "0  0 NaN   0  NaN\n",
       "1  0 NaN   0  NaN\n",
       "2  0 NaN  23  4.6\n",
       "3  0 NaN   0  NaN\n",
       "4  0 NaN   5  2.5"
      ]
     },
     "execution_count": 56,
     "metadata": {},
     "output_type": "execute_result"
    }
   ],
   "source": [
    "df_leftover.head()"
   ]
  },
  {
   "cell_type": "code",
   "execution_count": 77,
   "metadata": {},
   "outputs": [],
   "source": [
    "df_leftover.to_pickle('neigbours_vars_pat_leftover_2.pkl')"
   ]
  },
  {
   "cell_type": "code",
   "execution_count": null,
   "metadata": {},
   "outputs": [],
   "source": []
  },
  {
   "cell_type": "code",
   "execution_count": null,
   "metadata": {},
   "outputs": [],
   "source": []
  },
  {
   "cell_type": "code",
   "execution_count": null,
   "metadata": {},
   "outputs": [],
   "source": []
  },
  {
   "cell_type": "code",
   "execution_count": null,
   "metadata": {},
   "outputs": [],
   "source": []
  }
 ],
 "metadata": {
  "kernelspec": {
   "display_name": "Python 2",
   "language": "python",
   "name": "python2"
  },
  "language_info": {
   "codemirror_mode": {
    "name": "ipython",
    "version": 2
   },
   "file_extension": ".py",
   "mimetype": "text/x-python",
   "name": "python",
   "nbconvert_exporter": "python",
   "pygments_lexer": "ipython2",
   "version": "2.7.15"
  }
 },
 "nbformat": 4,
 "nbformat_minor": 2
}
