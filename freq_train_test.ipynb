{
 "cells": [
  {
   "cell_type": "code",
   "execution_count": 73,
   "metadata": {},
   "outputs": [],
   "source": [
    "from __future__ import division\n",
    "import pandas as pd\n",
    "import numpy as np\n",
    "import copy\n",
    "import pickle\n",
    "import sys\n",
    "import gc\n",
    "pd.options.display.max_columns=1000\n",
    "pd.options.display.max_rows=1000\n",
    "from encoding import FreqeuncyEncoding"
   ]
  },
  {
   "cell_type": "code",
   "execution_count": 74,
   "metadata": {},
   "outputs": [],
   "source": [
    "DATADIR = '../hike/'"
   ]
  },
  {
   "cell_type": "code",
   "execution_count": 75,
   "metadata": {},
   "outputs": [],
   "source": [
    "users=pd.read_csv(DATADIR + 'user_features.csv')\n",
    "train=pd.read_csv(DATADIR + 'train.csv',dtype={'is_chat': 'uint8', 'node1_id': 'uint32', 'node2_id': 'uint32'})\n",
    "test=pd.read_csv(DATADIR + 'test.csv',dtype={'id': 'uint32', 'node1_id': 'uint32', 'node2_id': 'uint32'})"
   ]
  },
  {
   "cell_type": "code",
   "execution_count": 15,
   "metadata": {},
   "outputs": [],
   "source": [
    "df=pd.concat((train.iloc[:,:2],test.iloc[:,1:3]),axis=0)"
   ]
  },
  {
   "cell_type": "code",
   "execution_count": 16,
   "metadata": {},
   "outputs": [
    {
     "data": {
      "text/html": [
       "<div>\n",
       "<style scoped>\n",
       "    .dataframe tbody tr th:only-of-type {\n",
       "        vertical-align: middle;\n",
       "    }\n",
       "\n",
       "    .dataframe tbody tr th {\n",
       "        vertical-align: top;\n",
       "    }\n",
       "\n",
       "    .dataframe thead th {\n",
       "        text-align: right;\n",
       "    }\n",
       "</style>\n",
       "<table border=\"1\" class=\"dataframe\">\n",
       "  <thead>\n",
       "    <tr style=\"text-align: right;\">\n",
       "      <th></th>\n",
       "      <th>node1_id</th>\n",
       "      <th>node2_id</th>\n",
       "    </tr>\n",
       "  </thead>\n",
       "  <tbody>\n",
       "    <tr>\n",
       "      <th>0</th>\n",
       "      <td>8446602</td>\n",
       "      <td>6636127</td>\n",
       "    </tr>\n",
       "    <tr>\n",
       "      <th>1</th>\n",
       "      <td>1430102</td>\n",
       "      <td>7433949</td>\n",
       "    </tr>\n",
       "    <tr>\n",
       "      <th>2</th>\n",
       "      <td>2803017</td>\n",
       "      <td>8372333</td>\n",
       "    </tr>\n",
       "    <tr>\n",
       "      <th>3</th>\n",
       "      <td>4529348</td>\n",
       "      <td>894645</td>\n",
       "    </tr>\n",
       "    <tr>\n",
       "      <th>4</th>\n",
       "      <td>5096572</td>\n",
       "      <td>4211638</td>\n",
       "    </tr>\n",
       "  </tbody>\n",
       "</table>\n",
       "</div>"
      ],
      "text/plain": [
       "   node1_id  node2_id\n",
       "0   8446602   6636127\n",
       "1   1430102   7433949\n",
       "2   2803017   8372333\n",
       "3   4529348    894645\n",
       "4   5096572   4211638"
      ]
     },
     "execution_count": 16,
     "metadata": {},
     "output_type": "execute_result"
    }
   ],
   "source": [
    "df.head()"
   ]
  },
  {
   "cell_type": "code",
   "execution_count": null,
   "metadata": {},
   "outputs": [],
   "source": []
  },
  {
   "cell_type": "code",
   "execution_count": 6,
   "metadata": {},
   "outputs": [],
   "source": [
    "import pickle"
   ]
  },
  {
   "cell_type": "code",
   "execution_count": 7,
   "metadata": {},
   "outputs": [],
   "source": [
    "degree = pickle.load(open(\"degrees_contact.pkl\"))"
   ]
  },
  {
   "cell_type": "markdown",
   "metadata": {},
   "source": [
    "### creating the new_test/train.pkl data"
   ]
  },
  {
   "cell_type": "code",
   "execution_count": 8,
   "metadata": {},
   "outputs": [],
   "source": [
    "y=train['is_chat']\n",
    "train.drop('is_chat',axis=1,inplace=True)"
   ]
  },
  {
   "cell_type": "code",
   "execution_count": 9,
   "metadata": {},
   "outputs": [],
   "source": [
    "degree_df=pd.DataFrame(degree.items(),columns=['node_id','degree'])\n",
    "degree_df.node_id=degree_df.node_id.astype('uint32')"
   ]
  },
  {
   "cell_type": "code",
   "execution_count": 18,
   "metadata": {},
   "outputs": [],
   "source": [
    "df=df.merge(degree_df,left_on='node1_id',right_on='node_id',how='left')\n",
    "df.drop('node_id',axis=1, inplace=True)\n",
    "df.rename(columns={'degree':'degree_source'},inplace=True)"
   ]
  },
  {
   "cell_type": "code",
   "execution_count": 21,
   "metadata": {},
   "outputs": [],
   "source": [
    "df=df.merge(degree_df,left_on='node2_id',right_on='node_id',how='left')\n",
    "df.drop('node_id',axis=1, inplace=True)\n",
    "df.rename(columns={'degree':'degree_target'},inplace=True)"
   ]
  },
  {
   "cell_type": "code",
   "execution_count": null,
   "metadata": {},
   "outputs": [],
   "source": []
  },
  {
   "cell_type": "code",
   "execution_count": 22,
   "metadata": {},
   "outputs": [
    {
     "name": "stdout",
     "output_type": "stream",
     "text": [
      "<class 'pandas.core.frame.DataFrame'>\n",
      "Int64Index: 82438770 entries, 0 to 82438769\n",
      "Data columns (total 4 columns):\n",
      "node1_id         uint32\n",
      "node2_id         uint32\n",
      "degree_source    float64\n",
      "degree_target    float64\n",
      "dtypes: float64(2), uint32(2)\n",
      "memory usage: 2.5 GB\n"
     ]
    }
   ],
   "source": [
    "df.info()"
   ]
  },
  {
   "cell_type": "code",
   "execution_count": 24,
   "metadata": {},
   "outputs": [
    {
     "data": {
      "text/html": [
       "<div>\n",
       "<style scoped>\n",
       "    .dataframe tbody tr th:only-of-type {\n",
       "        vertical-align: middle;\n",
       "    }\n",
       "\n",
       "    .dataframe tbody tr th {\n",
       "        vertical-align: top;\n",
       "    }\n",
       "\n",
       "    .dataframe thead th {\n",
       "        text-align: right;\n",
       "    }\n",
       "</style>\n",
       "<table border=\"1\" class=\"dataframe\">\n",
       "  <thead>\n",
       "    <tr style=\"text-align: right;\">\n",
       "      <th></th>\n",
       "      <th>node1_id</th>\n",
       "      <th>node2_id</th>\n",
       "      <th>degree_source</th>\n",
       "      <th>degree_target</th>\n",
       "    </tr>\n",
       "  </thead>\n",
       "  <tbody>\n",
       "    <tr>\n",
       "      <th>0</th>\n",
       "      <td>8446602</td>\n",
       "      <td>6636127</td>\n",
       "      <td>0.000005</td>\n",
       "      <td>9.680220e-07</td>\n",
       "    </tr>\n",
       "    <tr>\n",
       "      <th>1</th>\n",
       "      <td>1430102</td>\n",
       "      <td>7433949</td>\n",
       "      <td>0.000006</td>\n",
       "      <td>1.452033e-06</td>\n",
       "    </tr>\n",
       "    <tr>\n",
       "      <th>2</th>\n",
       "      <td>2803017</td>\n",
       "      <td>8372333</td>\n",
       "      <td>0.000006</td>\n",
       "      <td>2.662060e-06</td>\n",
       "    </tr>\n",
       "    <tr>\n",
       "      <th>3</th>\n",
       "      <td>4529348</td>\n",
       "      <td>894645</td>\n",
       "      <td>0.000007</td>\n",
       "      <td>8.591195e-06</td>\n",
       "    </tr>\n",
       "    <tr>\n",
       "      <th>4</th>\n",
       "      <td>5096572</td>\n",
       "      <td>4211638</td>\n",
       "      <td>0.000008</td>\n",
       "      <td>1.331030e-06</td>\n",
       "    </tr>\n",
       "  </tbody>\n",
       "</table>\n",
       "</div>"
      ],
      "text/plain": [
       "   node1_id  node2_id  degree_source  degree_target\n",
       "0   8446602   6636127       0.000005   9.680220e-07\n",
       "1   1430102   7433949       0.000006   1.452033e-06\n",
       "2   2803017   8372333       0.000006   2.662060e-06\n",
       "3   4529348    894645       0.000007   8.591195e-06\n",
       "4   5096572   4211638       0.000008   1.331030e-06"
      ]
     },
     "execution_count": 24,
     "metadata": {},
     "output_type": "execute_result"
    }
   ],
   "source": [
    "df.head()"
   ]
  },
  {
   "cell_type": "code",
   "execution_count": 25,
   "metadata": {},
   "outputs": [],
   "source": [
    "df=df.merge(users,left_on='node1_id',right_on='node_id',how='left')\n",
    "df.drop('node_id',axis=1,inplace=True)\n",
    "temp=dict(zip(df.columns[df.columns.str.contains('f')],df.columns[df.columns.str.contains('f')]+'_source'))\n",
    "df.rename(columns=temp,inplace=True)"
   ]
  },
  {
   "cell_type": "code",
   "execution_count": 26,
   "metadata": {},
   "outputs": [
    {
     "data": {
      "text/plain": [
       "272"
      ]
     },
     "execution_count": 26,
     "metadata": {},
     "output_type": "execute_result"
    }
   ],
   "source": [
    "gc.collect()"
   ]
  },
  {
   "cell_type": "code",
   "execution_count": 27,
   "metadata": {},
   "outputs": [],
   "source": [
    "df=df.merge(users,left_on='node2_id',right_on='node_id',how='left')\n",
    "df.drop('node_id',axis=1,inplace=True)\n",
    "temp=dict(zip(df.columns[df.columns.str.contains('f')],df.columns[df.columns.str.contains('f')]+'_target'))\n",
    "df.rename(columns=temp,inplace=True)"
   ]
  },
  {
   "cell_type": "code",
   "execution_count": 28,
   "metadata": {},
   "outputs": [
    {
     "data": {
      "text/plain": [
       "25"
      ]
     },
     "execution_count": 28,
     "metadata": {},
     "output_type": "execute_result"
    }
   ],
   "source": [
    "gc.collect()"
   ]
  },
  {
   "cell_type": "code",
   "execution_count": 30,
   "metadata": {},
   "outputs": [],
   "source": [
    "# df.info()"
   ]
  },
  {
   "cell_type": "code",
   "execution_count": 31,
   "metadata": {},
   "outputs": [
    {
     "name": "stdout",
     "output_type": "stream",
     "text": [
      "Index([u'node1_id', u'node2_id', u'degree_source', u'degree_target',\n",
      "       u'f1_source_target', u'f2_source_target', u'f3_source_target',\n",
      "       u'f4_source_target', u'f5_source_target', u'f6_source_target',\n",
      "       u'f7_source_target', u'f8_source_target', u'f9_source_target',\n",
      "       u'f10_source_target', u'f11_source_target', u'f12_source_target',\n",
      "       u'f13_source_target', u'f1_target', u'f2_target', u'f3_target',\n",
      "       u'f4_target', u'f5_target', u'f6_target', u'f7_target', u'f8_target',\n",
      "       u'f9_target', u'f10_target', u'f11_target', u'f12_target',\n",
      "       u'f13_target'],\n",
      "      dtype='object')\n"
     ]
    }
   ],
   "source": [
    "print df.columns"
   ]
  },
  {
   "cell_type": "code",
   "execution_count": 33,
   "metadata": {},
   "outputs": [
    {
     "name": "stderr",
     "output_type": "stream",
     "text": [
      "/home/weightsandbias/anaconda2/lib/python2.7/site-packages/ipykernel_launcher.py:2: SettingWithCopyWarning: \n",
      "A value is trying to be set on a copy of a slice from a DataFrame.\n",
      "Try using .loc[row_indexer,col_indexer] = value instead\n",
      "\n",
      "See the caveats in the documentation: http://pandas.pydata.org/pandas-docs/stable/indexing.html#indexing-view-versus-copy\n",
      "  \n"
     ]
    }
   ],
   "source": [
    "train=df.iloc[:train.shape[0],:]\n",
    "train['is_chat']=y"
   ]
  },
  {
   "cell_type": "code",
   "execution_count": 34,
   "metadata": {},
   "outputs": [],
   "source": [
    "test=df.iloc[train.shape[0]:,:]"
   ]
  },
  {
   "cell_type": "code",
   "execution_count": 35,
   "metadata": {},
   "outputs": [
    {
     "data": {
      "text/plain": [
       "0"
      ]
     },
     "execution_count": 35,
     "metadata": {},
     "output_type": "execute_result"
    }
   ],
   "source": [
    "gc.collect()"
   ]
  },
  {
   "cell_type": "code",
   "execution_count": 36,
   "metadata": {
    "scrolled": true
   },
   "outputs": [
    {
     "data": {
      "text/plain": [
       "Index([u'node1_id', u'node2_id', u'degree_source', u'degree_target',\n",
       "       u'f1_source_target', u'f2_source_target', u'f3_source_target',\n",
       "       u'f4_source_target', u'f5_source_target', u'f6_source_target',\n",
       "       u'f7_source_target', u'f8_source_target', u'f9_source_target',\n",
       "       u'f10_source_target', u'f11_source_target', u'f12_source_target',\n",
       "       u'f13_source_target', u'f1_target', u'f2_target', u'f3_target',\n",
       "       u'f4_target', u'f5_target', u'f6_target', u'f7_target', u'f8_target',\n",
       "       u'f9_target', u'f10_target', u'f11_target', u'f12_target',\n",
       "       u'f13_target'],\n",
       "      dtype='object')"
      ]
     },
     "execution_count": 36,
     "metadata": {},
     "output_type": "execute_result"
    }
   ],
   "source": [
    "df.columns"
   ]
  },
  {
   "cell_type": "code",
   "execution_count": 37,
   "metadata": {},
   "outputs": [],
   "source": [
    "del df"
   ]
  },
  {
   "cell_type": "code",
   "execution_count": 38,
   "metadata": {},
   "outputs": [],
   "source": [
    "train.reset_index(drop=True,inplace=True)\n",
    "test.reset_index(drop=True,inplace=True)"
   ]
  },
  {
   "cell_type": "code",
   "execution_count": 39,
   "metadata": {},
   "outputs": [
    {
     "name": "stdout",
     "output_type": "stream",
     "text": [
      "(70661802, 31) (11776968, 30)\n"
     ]
    }
   ],
   "source": [
    "print train.shape, test.shape"
   ]
  },
  {
   "cell_type": "code",
   "execution_count": 40,
   "metadata": {},
   "outputs": [],
   "source": [
    "df=pd.concat((train[['node1_id','node2_id']],test[['node1_id','node2_id']]),axis=0)"
   ]
  },
  {
   "cell_type": "code",
   "execution_count": 44,
   "metadata": {},
   "outputs": [],
   "source": [
    "fe=FreqeuncyEncoding(categorical_columns=['node1_id','node2_id'],return_df=True,normalize=False)\n",
    "df=fe.fit_transform(df)"
   ]
  },
  {
   "cell_type": "code",
   "execution_count": 45,
   "metadata": {},
   "outputs": [],
   "source": [
    "df.node1_id=df.node1_id.astype('uint16')\n",
    "df.node2_id=df.node2_id.astype('uint16')"
   ]
  },
  {
   "cell_type": "code",
   "execution_count": 46,
   "metadata": {},
   "outputs": [],
   "source": [
    "train[['node1_id','node2_id']]=df.iloc[:train.shape[0],:]\n",
    "test[['node1_id','node2_id']]=df.iloc[train.shape[0]:,:]"
   ]
  },
  {
   "cell_type": "code",
   "execution_count": 47,
   "metadata": {},
   "outputs": [
    {
     "data": {
      "text/plain": [
       "0"
      ]
     },
     "execution_count": 47,
     "metadata": {},
     "output_type": "execute_result"
    }
   ],
   "source": [
    "gc.collect()"
   ]
  },
  {
   "cell_type": "code",
   "execution_count": 48,
   "metadata": {},
   "outputs": [],
   "source": [
    "train['is_chat']=y"
   ]
  },
  {
   "cell_type": "code",
   "execution_count": 49,
   "metadata": {},
   "outputs": [],
   "source": [
    "train.degree_source= train.degree_source.astype('float32')\n",
    "train.degree_target= train.degree_target.astype('float32')\n",
    "\n",
    "test.degree_source= test.degree_source.astype('float32')\n",
    "test.degree_target= test.degree_target.astype('float32')"
   ]
  },
  {
   "cell_type": "code",
   "execution_count": 61,
   "metadata": {},
   "outputs": [],
   "source": [
    "for c in [ u'f1_source_target', u'f2_source_target', u'f3_source_target',\n",
    "       u'f4_source_target', u'f5_source_target', u'f6_source_target',\n",
    "       u'f7_source_target', u'f8_source_target', u'f9_source_target',\n",
    "       u'f10_source_target', u'f11_source_target', u'f12_source_target',\n",
    "       u'f13_source_target', u'f1_target', u'f2_target', u'f3_target',\n",
    "       u'f4_target', u'f5_target', u'f6_target', u'f7_target', u'f8_target',\n",
    "       u'f9_target', u'f10_target', u'f11_target', u'f12_target',\n",
    "       u'f13_target', u'is_chat']:\n",
    "    train[c] = train[c].astype('uint8')"
   ]
  },
  {
   "cell_type": "code",
   "execution_count": 65,
   "metadata": {},
   "outputs": [],
   "source": [
    "train.to_pickle('freq_new_train.pkl')"
   ]
  },
  {
   "cell_type": "code",
   "execution_count": 70,
   "metadata": {},
   "outputs": [],
   "source": [
    "for c in [ u'f1_source_target', u'f2_source_target', u'f3_source_target',\n",
    "       u'f4_source_target', u'f5_source_target', u'f6_source_target',\n",
    "       u'f7_source_target', u'f8_source_target', u'f9_source_target',\n",
    "       u'f10_source_target', u'f11_source_target', u'f12_source_target',\n",
    "       u'f13_source_target', u'f1_target', u'f2_target', u'f3_target',\n",
    "       u'f4_target', u'f5_target', u'f6_target', u'f7_target', u'f8_target',\n",
    "       u'f9_target', u'f10_target', u'f11_target', u'f12_target',\n",
    "       u'f13_target']:\n",
    "    test[c] = test[c].astype('uint8')"
   ]
  },
  {
   "cell_type": "code",
   "execution_count": 72,
   "metadata": {},
   "outputs": [],
   "source": [
    "test.to_pickle('freq_new_test.pkl')"
   ]
  },
  {
   "cell_type": "code",
   "execution_count": null,
   "metadata": {},
   "outputs": [],
   "source": []
  },
  {
   "cell_type": "code",
   "execution_count": null,
   "metadata": {},
   "outputs": [],
   "source": []
  },
  {
   "cell_type": "code",
   "execution_count": null,
   "metadata": {},
   "outputs": [],
   "source": []
  }
 ],
 "metadata": {
  "kernelspec": {
   "display_name": "Python 2",
   "language": "python",
   "name": "python2"
  },
  "language_info": {
   "codemirror_mode": {
    "name": "ipython",
    "version": 2
   },
   "file_extension": ".py",
   "mimetype": "text/x-python",
   "name": "python",
   "nbconvert_exporter": "python",
   "pygments_lexer": "ipython2",
   "version": "2.7.15"
  }
 },
 "nbformat": 4,
 "nbformat_minor": 2
}
