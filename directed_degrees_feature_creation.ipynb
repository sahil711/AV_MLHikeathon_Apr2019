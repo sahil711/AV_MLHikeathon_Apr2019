{
 "cells": [
  {
   "cell_type": "code",
   "execution_count": 1,
   "metadata": {},
   "outputs": [],
   "source": [
    "import pandas as pd\n",
    "import numpy as np\n",
    "import networkx as nx\n",
    "pd.options.display.max_columns=1000"
   ]
  },
  {
   "cell_type": "code",
   "execution_count": 2,
   "metadata": {},
   "outputs": [],
   "source": [
    "DATA_DIR = '../hike/'"
   ]
  },
  {
   "cell_type": "code",
   "execution_count": 3,
   "metadata": {},
   "outputs": [],
   "source": [
    "train = pd.read_csv(DATA_DIR + 'train.csv', usecols=['node1_id','node2_id'], dtype={\"is_chat\": np.int8})"
   ]
  },
  {
   "cell_type": "code",
   "execution_count": 4,
   "metadata": {},
   "outputs": [],
   "source": [
    "test = pd.read_csv(DATA_DIR + 'test.csv', usecols=['node1_id','node2_id'], dtype={\"is_chat\": np.int8})"
   ]
  },
  {
   "cell_type": "code",
   "execution_count": 5,
   "metadata": {},
   "outputs": [
    {
     "data": {
      "text/plain": [
       "((70661802, 2), (11776968, 2))"
      ]
     },
     "execution_count": 5,
     "metadata": {},
     "output_type": "execute_result"
    }
   ],
   "source": [
    "train.shape, test.shape"
   ]
  },
  {
   "cell_type": "code",
   "execution_count": 6,
   "metadata": {},
   "outputs": [],
   "source": [
    "df = pd.concat([train, test], axis=0)"
   ]
  },
  {
   "cell_type": "code",
   "execution_count": 7,
   "metadata": {},
   "outputs": [],
   "source": [
    "del train, test"
   ]
  },
  {
   "cell_type": "code",
   "execution_count": 8,
   "metadata": {},
   "outputs": [
    {
     "name": "stdout",
     "output_type": "stream",
     "text": [
      "CPU times: user 13min 12s, sys: 44.4 s, total: 13min 56s\n",
      "Wall time: 13min 54s\n"
     ]
    }
   ],
   "source": [
    "%%time\n",
    "graph = nx.from_pandas_edgelist(df=df, source='node1_id', target='node2_id', create_using=nx.DiGraph)"
   ]
  },
  {
   "cell_type": "markdown",
   "metadata": {},
   "source": [
    "#### Calculating Degree"
   ]
  },
  {
   "cell_type": "code",
   "execution_count": 9,
   "metadata": {},
   "outputs": [
    {
     "name": "stdout",
     "output_type": "stream",
     "text": [
      "CPU times: user 15.6 s, sys: 661 ms, total: 16.3 s\n",
      "Wall time: 16.3 s\n"
     ]
    }
   ],
   "source": [
    "%%time\n",
    "directed_degree = nx.algorithms.degree_centrality(G=graph)"
   ]
  },
  {
   "cell_type": "code",
   "execution_count": 10,
   "metadata": {},
   "outputs": [
    {
     "name": "stdout",
     "output_type": "stream",
     "text": [
      "CPU times: user 11.9 s, sys: 580 ms, total: 12.5 s\n",
      "Wall time: 12.5 s\n"
     ]
    }
   ],
   "source": [
    "%%time\n",
    "directed_degree_out = nx.algorithms.out_degree_centrality(G=graph)"
   ]
  },
  {
   "cell_type": "code",
   "execution_count": 11,
   "metadata": {},
   "outputs": [
    {
     "name": "stdout",
     "output_type": "stream",
     "text": [
      "CPU times: user 12.6 s, sys: 566 ms, total: 13.2 s\n",
      "Wall time: 13.1 s\n"
     ]
    }
   ],
   "source": [
    "%%time\n",
    "directed_degree_in = nx.algorithms.in_degree_centrality(G=graph)"
   ]
  },
  {
   "cell_type": "code",
   "execution_count": 48,
   "metadata": {},
   "outputs": [
    {
     "name": "stdout",
     "output_type": "stream",
     "text": [
      "CPU times: user 5min 47s, sys: 52.8 s, total: 6min 40s\n",
      "Wall time: 6min 3s\n"
     ]
    }
   ],
   "source": [
    "%%time\n",
    "degree_df=pd.DataFrame(directed_degree.items(),columns=['node_id','directed_degree'])\n",
    "df=df.merge(degree_df,left_on='node1_id',right_on='node_id',how='left')\n",
    "df.drop('node_id',axis=1,inplace=True)\n",
    "df.rename(columns={'directed_degree':'directed_degree_source'},inplace=True)\n",
    "\n",
    "df=df.merge(degree_df,left_on='node2_id',right_on='node_id',how='left')\n",
    "df.drop('node_id',axis=1,inplace=True)\n",
    "df.rename(columns={'directed_degree':'directed_degree_target'},inplace=True)\n"
   ]
  },
  {
   "cell_type": "code",
   "execution_count": 49,
   "metadata": {},
   "outputs": [
    {
     "name": "stdout",
     "output_type": "stream",
     "text": [
      "CPU times: user 10min 33s, sys: 56.5 s, total: 11min 30s\n",
      "Wall time: 10min 51s\n"
     ]
    }
   ],
   "source": [
    "%%time\n",
    "temp=pd.DataFrame(directed_degree_in.items(),columns=['node_id','directed_degree'])\n",
    "df=df.merge(temp,left_on='node1_id',right_on='node_id',how='left')\n",
    "df.drop('node_id',axis=1,inplace=True)\n",
    "df.rename(columns={'directed_degree':'directed_degree_source_in'},inplace=True)\n",
    "\n",
    "\n",
    "df=df.merge(temp,left_on='node2_id',right_on='node_id',how='left')\n",
    "df.drop('node_id',axis=1,inplace=True)\n",
    "df.rename(columns={'directed_degree':'directed_degree_target_in'},inplace=True)\n"
   ]
  },
  {
   "cell_type": "code",
   "execution_count": 50,
   "metadata": {},
   "outputs": [
    {
     "name": "stdout",
     "output_type": "stream",
     "text": [
      "CPU times: user 6min 11s, sys: 1min 9s, total: 7min 21s\n",
      "Wall time: 6min 32s\n"
     ]
    }
   ],
   "source": [
    "%%time\n",
    "temp=pd.DataFrame(directed_degree_out.items(),columns=['node_id','directed_degree'])\n",
    "df=df.merge(temp,left_on='node1_id',right_on='node_id',how='left')\n",
    "df.drop('node_id',axis=1,inplace=True)\n",
    "df.rename(columns={'directed_degree':'directed_degree_source_out'},inplace=True)\n",
    "\n",
    "\n",
    "df=df.merge(temp,left_on='node2_id',right_on='node_id',how='left')\n",
    "df.drop('node_id',axis=1,inplace=True)\n",
    "df.rename(columns={'directed_degree':'directed_degree_target_out'},inplace=True)"
   ]
  },
  {
   "cell_type": "code",
   "execution_count": 52,
   "metadata": {},
   "outputs": [
    {
     "data": {
      "text/html": [
       "<div>\n",
       "<style scoped>\n",
       "    .dataframe tbody tr th:only-of-type {\n",
       "        vertical-align: middle;\n",
       "    }\n",
       "\n",
       "    .dataframe tbody tr th {\n",
       "        vertical-align: top;\n",
       "    }\n",
       "\n",
       "    .dataframe thead th {\n",
       "        text-align: right;\n",
       "    }\n",
       "</style>\n",
       "<table border=\"1\" class=\"dataframe\">\n",
       "  <thead>\n",
       "    <tr style=\"text-align: right;\">\n",
       "      <th></th>\n",
       "      <th>directed_degree_source</th>\n",
       "      <th>directed_degree_target</th>\n",
       "      <th>directed_degree_source_in</th>\n",
       "      <th>directed_degree_target_in</th>\n",
       "      <th>directed_degree_source_out</th>\n",
       "      <th>directed_degree_target_out</th>\n",
       "    </tr>\n",
       "  </thead>\n",
       "  <tbody>\n",
       "    <tr>\n",
       "      <th>0</th>\n",
       "      <td>0.000005</td>\n",
       "      <td>9.680220e-07</td>\n",
       "      <td>0.000001</td>\n",
       "      <td>9.680220e-07</td>\n",
       "      <td>0.000004</td>\n",
       "      <td>0.000000e+00</td>\n",
       "    </tr>\n",
       "    <tr>\n",
       "      <th>1</th>\n",
       "      <td>0.000007</td>\n",
       "      <td>1.452033e-06</td>\n",
       "      <td>0.000002</td>\n",
       "      <td>1.452033e-06</td>\n",
       "      <td>0.000005</td>\n",
       "      <td>0.000000e+00</td>\n",
       "    </tr>\n",
       "    <tr>\n",
       "      <th>2</th>\n",
       "      <td>0.000007</td>\n",
       "      <td>3.388077e-06</td>\n",
       "      <td>0.000004</td>\n",
       "      <td>2.057047e-06</td>\n",
       "      <td>0.000003</td>\n",
       "      <td>1.331030e-06</td>\n",
       "    </tr>\n",
       "    <tr>\n",
       "      <th>3</th>\n",
       "      <td>0.000009</td>\n",
       "      <td>1.197927e-05</td>\n",
       "      <td>0.000004</td>\n",
       "      <td>5.203118e-06</td>\n",
       "      <td>0.000006</td>\n",
       "      <td>6.776154e-06</td>\n",
       "    </tr>\n",
       "    <tr>\n",
       "      <th>4</th>\n",
       "      <td>0.000010</td>\n",
       "      <td>1.573036e-06</td>\n",
       "      <td>0.000003</td>\n",
       "      <td>6.050137e-07</td>\n",
       "      <td>0.000007</td>\n",
       "      <td>9.680220e-07</td>\n",
       "    </tr>\n",
       "  </tbody>\n",
       "</table>\n",
       "</div>"
      ],
      "text/plain": [
       "   directed_degree_source  directed_degree_target  directed_degree_source_in  \\\n",
       "0                0.000005            9.680220e-07                   0.000001   \n",
       "1                0.000007            1.452033e-06                   0.000002   \n",
       "2                0.000007            3.388077e-06                   0.000004   \n",
       "3                0.000009            1.197927e-05                   0.000004   \n",
       "4                0.000010            1.573036e-06                   0.000003   \n",
       "\n",
       "   directed_degree_target_in  directed_degree_source_out  \\\n",
       "0               9.680220e-07                    0.000004   \n",
       "1               1.452033e-06                    0.000005   \n",
       "2               2.057047e-06                    0.000003   \n",
       "3               5.203118e-06                    0.000006   \n",
       "4               6.050137e-07                    0.000007   \n",
       "\n",
       "   directed_degree_target_out  \n",
       "0                0.000000e+00  \n",
       "1                0.000000e+00  \n",
       "2                1.331030e-06  \n",
       "3                6.776154e-06  \n",
       "4                9.680220e-07  "
      ]
     },
     "execution_count": 52,
     "metadata": {},
     "output_type": "execute_result"
    }
   ],
   "source": [
    "df.iloc[:,2:].to_pickle('directed_degrees.pkl')"
   ]
  }
 ],
 "metadata": {
  "kernelspec": {
   "display_name": "Python 2",
   "language": "python",
   "name": "python2"
  },
  "language_info": {
   "codemirror_mode": {
    "name": "ipython",
    "version": 2
   },
   "file_extension": ".py",
   "mimetype": "text/x-python",
   "name": "python",
   "nbconvert_exporter": "python",
   "pygments_lexer": "ipython2",
   "version": "2.7.15"
  }
 },
 "nbformat": 4,
 "nbformat_minor": 2
}
