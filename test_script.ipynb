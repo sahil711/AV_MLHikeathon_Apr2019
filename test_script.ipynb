{
 "cells": [
  {
   "cell_type": "code",
   "execution_count": 1,
   "metadata": {},
   "outputs": [],
   "source": [
    "%load_ext autoreload\n",
    "%autoreload 2\n",
    "\n",
    "from __future__ import division\n",
    "import pandas as pd\n",
    "import numpy as np\n",
    "import copy\n",
    "import pickle\n",
    "import sys\n",
    "import gc\n",
    "from encoding import FreqeuncyEncoding\n",
    "from lightgbm import LGBMClassifier\n",
    "from custom_estimator import Estimator\n",
    "from sklearn.externals import joblib\n",
    "\n",
    "pd.options.display.max_columns=100"
   ]
  },
  {
   "cell_type": "code",
   "execution_count": 3,
   "metadata": {},
   "outputs": [],
   "source": [
    "def create_feats(df):\n",
    "    df.degree_source=df.degree_source.astype('float32')\n",
    "    df.degree_target=df.degree_target.astype('float32')\n",
    "    \n",
    "    df['degree_ratio']=df.degree_source/(1+df.degree_target)\n",
    "    df['degree_delta']=df.degree_source-df.degree_target\n",
    "    \n",
    "    df['directed_degree_ratio']=df.directed_degree_source/(1+df.directed_degree_target)\n",
    "    df['directed_degree_delta']=df.directed_degree_source-df.directed_degree_target\n",
    "\n",
    "    df['directed_degree_ratio_in']=df.directed_degree_source_in/(1+df.directed_degree_target_in)\n",
    "    df['directed_degree_delta_in']=df.directed_degree_source_in-df.directed_degree_target_in\n",
    "\n",
    "    df['directed_degree_ratio_out']=df.directed_degree_source_out/(1+df.directed_degree_target_out)\n",
    "    df['directed_degree_delta_out']=df.directed_degree_source_out-df.directed_degree_target_out\n",
    "\n",
    "    df['node_sum']=df['node1_id']+df['node2_id']\n",
    "    df['node_ratio']=(df['node1_id']/df['node2_id']).astype('float16')\n",
    "    \n",
    "    df['is_chat_diff']=df['source_is_chat_count']-df['target_is_chat_count']\n",
    "    df['is_chat_ratio']=(df['source_is_chat_count']/(df['target_is_chat_count']+1).astype('float16'))\n",
    "    \n",
    "    df['mutual_chat_diff']=df['source_mutual_is_chat']-df['target_mutual_is_chat']\n",
    "    df['mutual_chat_ratio']=(df['source_mutual_is_chat']/(df['target_mutual_is_chat']+1).astype('float16'))\n",
    "\n",
    "\n",
    "    df['delta_triangle']=df['node1_triangles']- df['node2_triangles']\n",
    "    df['ratio_triangle']=df['node1_triangles']/(1+df['node2_triangles'])\n",
    "    df['triangle_degree_delta_source']=(df.degree_source*8264276).astype('int16')-df['node1_triangles']\n",
    "    df['triangle_degree_delta_target']=(df.degree_target*8264276).astype('int16')-df['node1_triangles']\n",
    "\n",
    "    df['clust_prod']=df['node1_cluster']* df['node2_cluster']\n",
    "    df['clust_diff']=df['node1_cluster']- df['node2_cluster']\n",
    "\n",
    "    gc.collect()\n",
    "    \n",
    "    df['source_net_act']=df[['f1_source_target', 'f2_source_target', 'f3_source_target', 'f4_source_target', 'f5_source_target',\n",
    "     'f6_source_target', 'f7_source_target', 'f8_source_target', 'f9_source_target', 'f10_source_target',\n",
    "     'f11_source_target', 'f12_source_target']].sum(axis=1)\n",
    "\n",
    "    df['target_net_act']=df[['f1_target', 'f2_target', 'f3_target',\n",
    "     'f4_target', 'f5_target', 'f6_target', 'f7_target', 'f8_target', 'f9_target', 'f10_target', 'f11_target',\n",
    "     'f12_target']].sum(axis=1)\n",
    "\n",
    "    df['net_act_diff']=df['source_net_act']- df['target_net_act']\n",
    "\n",
    "    gc.collect()\n",
    "    \n",
    "\n",
    "    df['f14_source']=df['f1_source_target']+df['f4_source_target']+df['f7_source_target']+df['f10_source_target']\n",
    "    df['f15_source']=df['f5_source_target']+df['f8_source_target']+df['f11_source_target']\n",
    "    df['f16_source']=df['f6_source_target']+df['f9_source_target']+df['f12_source_target']\n",
    "\n",
    "\n",
    "    df['f14_target']=df['f1_target']+df['f4_target']+df['f7_target']+df['f10_target']\n",
    "    df['f15_target']=df['f5_target']+df['f8_target']+df['f11_target']\n",
    "    df['f16_target']=df['f6_target']+df['f9_target']+df['f12_target']\n",
    "\n",
    "    gc.collect()\n",
    "    \n",
    "    df['fdiff_1']=df['f1_source_target']-df['f1_target']\n",
    "    df['fdiff_2']=df['f2_source_target']-df['f2_target']\n",
    "    df['fdiff_3']=df['f3_source_target']-df['f3_target']\n",
    "    df['fdiff_4']=df['f4_source_target']-df['f4_target']\n",
    "    df['fdiff_5']=df['f5_source_target']-df['f5_target']\n",
    "    df['fdiff_6']=df['f6_source_target']-df['f6_target']\n",
    "    df['fdiff_7']=df['f7_source_target']-df['f7_target']\n",
    "    df['fdiff_8']=df['f8_source_target']-df['f8_target']\n",
    "    df['fdiff_9']=df['f9_source_target']-df['f9_target']\n",
    "    df['fdiff_10']=df['f10_source_target']-df['f10_target']\n",
    "    df['fdiff_11']=df['f11_source_target']-df['f11_target']\n",
    "    df['fdiff_12']=df['f12_source_target']-df['f12_target']\n",
    "    df['fdiff_13']=df['f13_source_target']-df['f13_target']\n",
    "    df['fdiff_14']=df['f14_target']-df['f14_source']\n",
    "    df['fdiff_15']=df['f15_target']-df['f15_source']\n",
    "    df['fdiff_16']=df['f16_target']-df['f16_source']\n",
    "\n",
    "    gc.collect()\n",
    "    \n",
    "    \n",
    "    df['fmult_1']=df['f1_source_target']/(df['f1_target']+1).astype('float16')\n",
    "    df['fmult_2']=df['f2_source_target']/(1+df['f2_target']).astype('float16')\n",
    "    df['fmult_3']=df['f3_source_target']/(1+df['f3_target']).astype('float16')\n",
    "    df['fmult_4']=df['f4_source_target']/(1+df['f4_target']).astype('float16')\n",
    "    df['fmult_5']=df['f5_source_target']/(1+df['f5_target']).astype('float16')\n",
    "    df['fmult_6']=df['f6_source_target']/(1+df['f6_target']).astype('float16')\n",
    "    df['fmult_7']=df['f7_source_target']/(1+df['f7_target']).astype('float16')\n",
    "    df['fmult_8']=df['f8_source_target']/(1+df['f8_target']).astype('float16')\n",
    "    df['fmult_9']=df['f9_source_target']/(1+df['f9_target']).astype('float16')\n",
    "    df['fmult_10']=df['f10_source_target']/(1+df['f10_target']).astype('float16')\n",
    "    df['fmult_11']=df['f11_source_target']/(1+df['f11_target']).astype('float16')\n",
    "    df['fmult_12']=df['f12_source_target']/(1+df['f12_target']).astype('float16')\n",
    "    df['fmult_13']=df['f13_source_target']/(1+df['f13_target']).astype('float16')\n",
    "    df['fmult_14']=df['f14_source']/(1+df['f14_target']).astype('float16')\n",
    "    df['fmult_15']=df['f15_source']/(1+df['f15_target']).astype('float16')\n",
    "    df['fmult_16']=df['f16_source']/(1+df['f16_target']).astype('float16')\n",
    "\n",
    "    gc.collect()\n",
    "    \n",
    "\n",
    "    df['norm_user_diff']=np.sqrt(np.square(df[df.columns[df.columns.str.contains('diff')]].astype('int16')).sum(axis=1))\n",
    "    \n",
    "    df['norm_user_diff_1']=np.sqrt(np.square(df[['fdiff_1','fdiff_4','fdiff_7','fdiff_10']].astype('int16')).sum(axis=1))\n",
    "    df['norm_user_diff_2']=np.sqrt(np.square(df[['fdiff_2','fdiff_5','fdiff_8','fdiff_11']].astype('int16')).sum(axis=1))\n",
    "    df['norm_user_diff_3']=np.sqrt(np.square(df[['fdiff_3','fdiff_6','fdiff_9','fdiff_12']].astype('int16')).sum(axis=1))\n",
    "\n",
    "    df['source_net_act']=df['source_net_act'].astype('int16')\n",
    "    df['target_net_act']=df['target_net_act'].astype('int16')\n",
    "    df['net_act_diff']=df['net_act_diff'].astype('int16')\n",
    "    df['norm_user_diff']=df['norm_user_diff'].astype('float16')\n",
    "\n",
    "    gc.collect()\n",
    "    \n",
    "    \n",
    "    return df"
   ]
  },
  {
   "cell_type": "code",
   "execution_count": 4,
   "metadata": {},
   "outputs": [
    {
     "name": "stdout",
     "output_type": "stream",
     "text": [
      "CPU times: user 632 ms, sys: 7.28 s, total: 7.91 s\n",
      "Wall time: 7.46 s\n"
     ]
    }
   ],
   "source": [
    "%%time\n",
    "test=pd.read_pickle('freq_new_test.pkl')\n",
    "clust=pd.read_pickle('cluster_coeffs.pkl')\n",
    "triangles=pd.read_pickle('triangles.pkl')\n",
    "test['node1_cluster']=clust.clust_source.iloc[-test.shape[0]:].values\n",
    "test['node2_cluster']=clust.clust_target.iloc[-test.shape[0]:].values\n",
    "test['node1_triangles']=triangles.triangles_source.iloc[-test.shape[0]:].values\n",
    "test['node2_triangles']=triangles.triangles_target.iloc[-test.shape[0]:].values"
   ]
  },
  {
   "cell_type": "code",
   "execution_count": 5,
   "metadata": {},
   "outputs": [
    {
     "name": "stdout",
     "output_type": "stream",
     "text": [
      "CPU times: user 7.06 s, sys: 3.37 s, total: 10.4 s\n",
      "Wall time: 3.46 s\n"
     ]
    }
   ],
   "source": [
    "%%time\n",
    "temp_df=pd.read_pickle('neigbours_vars_pat_leftover_2.pkl')\n",
    "temp_df.columns=['deg2_feat1','deg2_feat2','deg2_feat3','deg2_feat4']\n",
    "temp_df=temp_df.iloc[-test.shape[0]:,:]\n",
    "temp_df.reset_index(inplace=True,drop=True)\n",
    "test=pd.concat((test,temp_df),axis=1)"
   ]
  },
  {
   "cell_type": "code",
   "execution_count": 7,
   "metadata": {},
   "outputs": [
    {
     "name": "stdout",
     "output_type": "stream",
     "text": [
      "CPU times: user 8.7 s, sys: 6.32 s, total: 15 s\n",
      "Wall time: 4.1 s\n"
     ]
    }
   ],
   "source": [
    "%%time\n",
    "deg_2_neigh=pd.read_pickle('degree_2_neighbour_feats.pkl')\n",
    "deg_2_neigh=deg_2_neigh.iloc[-test.shape[0]:,:]\n",
    "deg_2_neigh.reset_index(inplace=True,drop=True)\n",
    "test=pd.concat((test,deg_2_neigh),axis=1)\n"
   ]
  },
  {
   "cell_type": "code",
   "execution_count": 1,
   "metadata": {},
   "outputs": [],
   "source": [
    "# test.head()"
   ]
  },
  {
   "cell_type": "code",
   "execution_count": 9,
   "metadata": {},
   "outputs": [
    {
     "name": "stdout",
     "output_type": "stream",
     "text": [
      "CPU times: user 1.18 s, sys: 10.8 s, total: 12 s\n",
      "Wall time: 12 s\n"
     ]
    }
   ],
   "source": [
    "%%time\n",
    "dir_degrees=pd.read_pickle('directed_degrees.pkl')\n",
    "test['directed_degree_source']= dir_degrees['directed_degree_source'].iloc[-test.shape[0]:].values\n",
    "test['directed_degree_target']= dir_degrees['directed_degree_target'].iloc[-test.shape[0]:].values\n",
    "test['directed_degree_source_in']= dir_degrees['directed_degree_source_in'].iloc[-test.shape[0]:].values\n",
    "test['directed_degree_target_in']= dir_degrees['directed_degree_target_in'].iloc[-test.shape[0]:].values\n",
    "test['directed_degree_source_out']= dir_degrees['directed_degree_source_out'].iloc[-test.shape[0]:].values\n",
    "test['directed_degree_target_out']= dir_degrees['directed_degree_target_out'].iloc[-test.shape[0]:].values\n"
   ]
  },
  {
   "cell_type": "code",
   "execution_count": 10,
   "metadata": {},
   "outputs": [
    {
     "name": "stdout",
     "output_type": "stream",
     "text": [
      "CPU times: user 15.2 s, sys: 7.68 s, total: 22.9 s\n",
      "Wall time: 13.9 s\n"
     ]
    }
   ],
   "source": [
    "%%time\n",
    "neighbours=pd.read_csv('neigbours_vars_sahil_1.csv')\n",
    "test['source_mutual_is_chat']=neighbours.iloc[-test.shape[0]:,1].values\n",
    "test['target_mutual_is_chat']=neighbours.iloc[-test.shape[0]:,2].values\n",
    "test['mutual_neighbours']=neighbours.iloc[-test.shape[0]:,0].values"
   ]
  },
  {
   "cell_type": "code",
   "execution_count": 11,
   "metadata": {},
   "outputs": [
    {
     "name": "stdout",
     "output_type": "stream",
     "text": [
      "CPU times: user 12.7 s, sys: 5.46 s, total: 18.2 s\n",
      "Wall time: 10.1 s\n"
     ]
    }
   ],
   "source": [
    "%%time\n",
    "neighbours2=pd.read_csv('neigbours_vars_sahil_2.csv')\n",
    "test['source_is_chat_count']=neighbours2.iloc[-test.shape[0]:,0].values\n",
    "test['target_is_chat_count']=neighbours2.iloc[-test.shape[0]:,1].values"
   ]
  },
  {
   "cell_type": "code",
   "execution_count": 12,
   "metadata": {},
   "outputs": [
    {
     "name": "stdout",
     "output_type": "stream",
     "text": [
      "CPU times: user 7.94 s, sys: 4.68 s, total: 12.6 s\n",
      "Wall time: 1.05 s\n"
     ]
    }
   ],
   "source": [
    "%%time\n",
    "def change_dtype(a,dt):\n",
    "    return a.astype(dt)\n",
    "\n",
    "for col in test.columns[test.columns.str.contains('f[0-9]')].tolist():\n",
    "    test[col]=change_dtype(test[col],'int16')"
   ]
  },
  {
   "cell_type": "code",
   "execution_count": 13,
   "metadata": {},
   "outputs": [
    {
     "data": {
      "text/plain": [
       "88"
      ]
     },
     "execution_count": 13,
     "metadata": {},
     "output_type": "execute_result"
    }
   ],
   "source": [
    "gc.collect()"
   ]
  },
  {
   "cell_type": "code",
   "execution_count": null,
   "metadata": {},
   "outputs": [],
   "source": [
    "%%time\n",
    "extra_feats=pd.read_csv('jc_rsa_pa_aai.csv')\n",
    "extra_feats.rsa = extra_feats.rsa.shift(1).fillna(0)\n",
    "train['jc']= extra_feats.jc.iloc[:train.shape[0]].values\n",
    "train['rsa']= extra_feats.rsa.iloc[:train.shape[0]].values\n",
    "train['pa']= extra_feats.pa.iloc[:train.shape[0]].values\n",
    "train['adamic_adar']= extra_feats.aa.iloc[:train.shape[0]].values"
   ]
  },
  {
   "cell_type": "code",
   "execution_count": 14,
   "metadata": {},
   "outputs": [
    {
     "name": "stdout",
     "output_type": "stream",
     "text": [
      "CPU times: user 1.32 s, sys: 2.28 s, total: 3.6 s\n",
      "Wall time: 2.6 s\n"
     ]
    }
   ],
   "source": [
    "%%time\n",
    "extra_feats=pd.read_csv('jc_rsa_pa_aai.csv')\n",
    "test['jc']= extra_feats.jc.iloc[-test.shape[0]:].values\n",
    "test['rsa']= extra_feats.rsa.iloc[-test.shape[0]:].values\n",
    "test['pa']= extra_feats.pa.iloc[-test.shape[0]:].values\n",
    "test['adamic_adar']=extra_feats.aa.iloc[-test.shape[0]:].values"
   ]
  },
  {
   "cell_type": "code",
   "execution_count": 15,
   "metadata": {},
   "outputs": [
    {
     "data": {
      "text/plain": [
       "23"
      ]
     },
     "execution_count": 15,
     "metadata": {},
     "output_type": "execute_result"
    }
   ],
   "source": [
    "gc.collect()"
   ]
  },
  {
   "cell_type": "code",
   "execution_count": 16,
   "metadata": {},
   "outputs": [],
   "source": [
    "leak_feature=pd.read_pickle('leak_feature.pkl')\n",
    "test['leak_feature']=leak_feature.leak_feature.iloc[-test.shape[0]:].values"
   ]
  },
  {
   "cell_type": "code",
   "execution_count": 17,
   "metadata": {},
   "outputs": [
    {
     "data": {
      "text/plain": [
       "7"
      ]
     },
     "execution_count": 17,
     "metadata": {},
     "output_type": "execute_result"
    }
   ],
   "source": [
    "gc.collect()"
   ]
  },
  {
   "cell_type": "code",
   "execution_count": 18,
   "metadata": {
    "scrolled": true
   },
   "outputs": [
    {
     "name": "stderr",
     "output_type": "stream",
     "text": [
      "/home/weightsandbias/anaconda2/lib/python2.7/site-packages/ipykernel_launcher.py:110: RuntimeWarning: invalid value encountered in sqrt\n"
     ]
    }
   ],
   "source": [
    "test=create_feats(test)"
   ]
  },
  {
   "cell_type": "code",
   "execution_count": 19,
   "metadata": {
    "scrolled": true
   },
   "outputs": [
    {
     "data": {
      "text/plain": [
       "(11776968, 127)"
      ]
     },
     "execution_count": 19,
     "metadata": {},
     "output_type": "execute_result"
    }
   ],
   "source": [
    "test.shape"
   ]
  },
  {
   "cell_type": "markdown",
   "metadata": {},
   "source": [
    "### predictions"
   ]
  },
  {
   "cell_type": "code",
   "execution_count": 20,
   "metadata": {},
   "outputs": [
    {
     "name": "stdout",
     "output_type": "stream",
     "text": [
      "[0.9399932460538108, 0.9403921499754164, 0.9400259100006944, 0.9405107722873594, 0.9402462167031546] 0.9402331492956435\n"
     ]
    }
   ],
   "source": [
    "mod2=joblib.load('lgb_128_feats_with_leak_and_mutual_friends_with_is_chat_target_depth_2_feats_rsa_2_more_deg2.pkl')\n",
    "print mod2.cv_scores, mod2.overall_cv_score"
   ]
  },
  {
   "cell_type": "code",
   "execution_count": 21,
   "metadata": {},
   "outputs": [
    {
     "name": "stdout",
     "output_type": "stream",
     "text": [
      "CPU times: user 2h 48min 54s, sys: 1min 38s, total: 2h 50min 32s\n",
      "Wall time: 9min 2s\n"
     ]
    }
   ],
   "source": [
    "%%time\n",
    "pred1=mod2.transform(test.values)"
   ]
  },
  {
   "cell_type": "code",
   "execution_count": 22,
   "metadata": {},
   "outputs": [
    {
     "name": "stdout",
     "output_type": "stream",
     "text": [
      "[0.9401937317733958, 0.9398295974413856, 0.9402266619931113, 0.9406578657752643, 0.9402328778769024] 0.9402278033925633\n"
     ]
    }
   ],
   "source": [
    "mod2=joblib.load('lgb_128_feats_with_leak_and_mutual_friends_with_is_chat_target_depth_2_feats_rsa_2_more_deg2_seed_200.pkl')\n",
    "print mod2.cv_scores, mod2.overall_cv_score"
   ]
  },
  {
   "cell_type": "code",
   "execution_count": 23,
   "metadata": {},
   "outputs": [
    {
     "name": "stdout",
     "output_type": "stream",
     "text": [
      "CPU times: user 2h 59min 41s, sys: 1min 5s, total: 3h 46s\n",
      "Wall time: 8min 57s\n"
     ]
    }
   ],
   "source": [
    "%%time\n",
    "pred2=mod2.transform(test.values)"
   ]
  },
  {
   "cell_type": "code",
   "execution_count": 24,
   "metadata": {},
   "outputs": [
    {
     "name": "stdout",
     "output_type": "stream",
     "text": [
      "[0.9398269590461181, 0.9404481181971962, 0.9405796764435808, 0.9402091424270741, 0.9401698169609554] 0.9402457920841976\n"
     ]
    }
   ],
   "source": [
    "mod2=joblib.load('lgb_128_feats_with_leak_and_mutual_friends_with_is_chat_target_depth_2_feats_rsa_2_more_deg2_seed_300.pkl')\n",
    "print mod2.cv_scores, mod2.overall_cv_score"
   ]
  },
  {
   "cell_type": "code",
   "execution_count": 25,
   "metadata": {},
   "outputs": [
    {
     "name": "stdout",
     "output_type": "stream",
     "text": [
      "CPU times: user 3h 7min 42s, sys: 1min 7s, total: 3h 8min 49s\n",
      "Wall time: 9min 18s\n"
     ]
    }
   ],
   "source": [
    "%%time\n",
    "pred3=mod2.transform(test.values)"
   ]
  },
  {
   "cell_type": "code",
   "execution_count": 26,
   "metadata": {},
   "outputs": [
    {
     "name": "stdout",
     "output_type": "stream",
     "text": [
      "[0.9402334102242799, 0.94057945273079, 0.9398875814444789, 0.9401557522279543, 0.9403453260778156] 0.9402398234781657\n"
     ]
    }
   ],
   "source": [
    "mod2=joblib.load('lgb_128_feats_with_leak_and_mutual_friends_with_is_chat_target_depth_2_feats_rsa_2_more_deg2_seed_400.pkl')\n",
    "print mod2.cv_scores, mod2.overall_cv_score"
   ]
  },
  {
   "cell_type": "code",
   "execution_count": 27,
   "metadata": {},
   "outputs": [
    {
     "name": "stdout",
     "output_type": "stream",
     "text": [
      "CPU times: user 2h 55min 48s, sys: 1min 7s, total: 2h 56min 56s\n",
      "Wall time: 8min 44s\n"
     ]
    }
   ],
   "source": [
    "%%time\n",
    "pred4=mod2.transform(test.values)"
   ]
  },
  {
   "cell_type": "code",
   "execution_count": 28,
   "metadata": {},
   "outputs": [
    {
     "name": "stdout",
     "output_type": "stream",
     "text": [
      "[0.939968206676806, 0.9406600446099929, 0.9402283883290528, 0.9401602258962751, 0.9398803930793797] 0.940179158418961\n"
     ]
    }
   ],
   "source": [
    "mod2=joblib.load('lgb_128_feats_with_leak_and_mutual_friends_with_is_chat_target_depth_2_feats_rsa_2_more_deg2_seed_500.pkl')\n",
    "print mod2.cv_scores, mod2.overall_cv_score"
   ]
  },
  {
   "cell_type": "code",
   "execution_count": 29,
   "metadata": {},
   "outputs": [
    {
     "name": "stdout",
     "output_type": "stream",
     "text": [
      "CPU times: user 3h 17min 41s, sys: 1min 7s, total: 3h 18min 48s\n",
      "Wall time: 9min 43s\n"
     ]
    }
   ],
   "source": [
    "%%time\n",
    "pred5=mod2.transform(test.values)"
   ]
  },
  {
   "cell_type": "code",
   "execution_count": null,
   "metadata": {},
   "outputs": [],
   "source": [
    "mod2=joblib.load('lgb_128_feats_with_leak_and_mutual_friends_with_is_chat_target_depth_2_feats_rsa_2_more_deg2_seed_600.pkl')\n",
    "print mod2.cv_scores, mod2.overall_cv_score"
   ]
  },
  {
   "cell_type": "code",
   "execution_count": null,
   "metadata": {},
   "outputs": [],
   "source": [
    "%%time\n",
    "pred6=mod2.transform(test.values)"
   ]
  },
  {
   "cell_type": "code",
   "execution_count": null,
   "metadata": {},
   "outputs": [],
   "source": [
    "mod2=joblib.load('lgb_128_feats_with_leak_and_mutual_friends_with_is_chat_target_depth_2_feats_rsa_2_more_deg2_seed_700.pkl')\n",
    "print mod2.cv_scores, mod2.overall_cv_score"
   ]
  },
  {
   "cell_type": "code",
   "execution_count": null,
   "metadata": {},
   "outputs": [],
   "source": [
    "%%time\n",
    "pred7=mod2.transform(test.values)"
   ]
  },
  {
   "cell_type": "code",
   "execution_count": null,
   "metadata": {},
   "outputs": [],
   "source": [
    "mod2=joblib.load('lgb_128_feats_with_leak_and_mutual_friends_with_is_chat_target_depth_2_feats_rsa_2_more_deg2_seed_800.pkl')\n",
    "print mod2.cv_scores, mod2.overall_cv_score"
   ]
  },
  {
   "cell_type": "code",
   "execution_count": null,
   "metadata": {},
   "outputs": [],
   "source": [
    "%%time\n",
    "pred8=mod2.transform(test.values)"
   ]
  },
  {
   "cell_type": "code",
   "execution_count": null,
   "metadata": {},
   "outputs": [],
   "source": [
    "mod2=joblib.load('lgb_128_feats_with_leak_and_mutual_friends_with_is_chat_target_depth_2_feats_rsa_2_more_deg2_seed_900.pkl')\n",
    "print mod2.cv_scores, mod2.overall_cv_score"
   ]
  },
  {
   "cell_type": "code",
   "execution_count": null,
   "metadata": {},
   "outputs": [],
   "source": [
    "%%time\n",
    "pred9=mod2.transform(test.values)"
   ]
  },
  {
   "cell_type": "code",
   "execution_count": null,
   "metadata": {},
   "outputs": [],
   "source": [
    "mod2=joblib.load('lgb_128_feats_with_leak_and_mutual_friends_with_is_chat_target_depth_2_feats_rsa_2_more_deg2_seed_1000.pkl')\n",
    "print mod2.cv_scores, mod2.overall_cv_score"
   ]
  },
  {
   "cell_type": "code",
   "execution_count": null,
   "metadata": {},
   "outputs": [],
   "source": [
    "%%time\n",
    "pred10=mod2.transform(test.values)"
   ]
  },
  {
   "cell_type": "code",
   "execution_count": null,
   "metadata": {},
   "outputs": [],
   "source": []
  },
  {
   "cell_type": "markdown",
   "metadata": {},
   "source": [
    "### bagging all the 10 models"
   ]
  },
  {
   "cell_type": "code",
   "execution_count": 31,
   "metadata": {},
   "outputs": [],
   "source": [
    "sol1=pd.DataFrame({'id':range(len(pred1)),'var1':pred1,'var2':pred2,'var3':pred3,'var4':pred4,'var5':pred5,\n",
    "                   'var6':pred6,'var7':pred7,'var8':pred8,'var9':pred9,'var10':pred10})\n"
   ]
  },
  {
   "cell_type": "code",
   "execution_count": 32,
   "metadata": {},
   "outputs": [],
   "source": [
    "sol1.id=sol1.id+1"
   ]
  },
  {
   "cell_type": "code",
   "execution_count": 39,
   "metadata": {},
   "outputs": [],
   "source": [
    "sol1['is_chat']=sol1.iloc[:,1:].mean(axis=1)"
   ]
  },
  {
   "cell_type": "code",
   "execution_count": 2,
   "metadata": {},
   "outputs": [],
   "source": [
    "sol1.head()"
   ]
  },
  {
   "cell_type": "code",
   "execution_count": 43,
   "metadata": {},
   "outputs": [],
   "source": [
    "sol1.iloc[:,[0,-1]].to_csv('final_sol.csv',index=False)"
   ]
  },
  {
   "cell_type": "code",
   "execution_count": null,
   "metadata": {},
   "outputs": [],
   "source": []
  },
  {
   "cell_type": "code",
   "execution_count": null,
   "metadata": {},
   "outputs": [],
   "source": []
  },
  {
   "cell_type": "code",
   "execution_count": null,
   "metadata": {},
   "outputs": [],
   "source": []
  }
 ],
 "metadata": {
  "kernelspec": {
   "display_name": "Python 2",
   "language": "python",
   "name": "python2"
  },
  "language_info": {
   "codemirror_mode": {
    "name": "ipython",
    "version": 2
   },
   "file_extension": ".py",
   "mimetype": "text/x-python",
   "name": "python",
   "nbconvert_exporter": "python",
   "pygments_lexer": "ipython2",
   "version": "2.7.15"
  }
 },
 "nbformat": 4,
 "nbformat_minor": 2
}
